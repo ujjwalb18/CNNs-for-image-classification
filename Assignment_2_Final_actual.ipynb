{
  "cells": [
    {
      "cell_type": "markdown",
      "metadata": {},
      "source": [
        "# Assessment 2: CNNs for image classification\n",
        "\n",
        "## Part 1: Implementing Covolutional Neural Networks on CIFAR-10 Data"
      ]
    },
    {
      "cell_type": "code",
      "execution_count": 1,
      "metadata": {},
      "outputs": [
        {
          "name": "stderr",
          "output_type": "stream",
          "text": [
            "/home/kyrotron/miniconda3/envs/ptrch/lib/python3.9/site-packages/tqdm/auto.py:21: TqdmWarning: IProgress not found. Please update jupyter and ipywidgets. See https://ipywidgets.readthedocs.io/en/stable/user_install.html\n",
            "  from .autonotebook import tqdm as notebook_tqdm\n"
          ]
        }
      ],
      "source": [
        "# Importing all the required libraries here for our assignment\n",
        "\n",
        "import torch\n",
        "import torch.nn as nn\n",
        "import torch.optim as optim\n",
        "import torchvision\n",
        "import torchvision.transforms as transforms\n",
        "import matplotlib.pyplot as plt\n",
        "from tqdm import tqdm\n",
        "import torch.nn.functional as F\n",
        "from efficientnet_pytorch import EfficientNet\n",
        "import torchvision.models as models\n",
        "\n",
        "import random \n",
        "torch.manual_seed(123)\n",
        "torch.cuda.manual_seed(123)\n",
        "random.seed(123)"
      ]
    },
    {
      "cell_type": "code",
      "execution_count": 2,
      "metadata": {},
      "outputs": [],
      "source": [
        "# Setting the processing device to GPU for faster processing of data using Nvidia CUDA\n",
        "\n",
        "set_gpu = torch.device(\"cuda:0\" if torch.cuda.is_available() else \"cpu\")"
      ]
    },
    {
      "cell_type": "code",
      "execution_count": 3,
      "metadata": {},
      "outputs": [],
      "source": [
        "# Defining hyperparameters for our model. these can be changed and experimented with to find our best suitable combination\n",
        "\n",
        "batch_size = 64  # 64 was found to be the most suitable batch size\n",
        "count_epochs = 17  # 15 epochs were found to be best suited to attain best possible accuracy\n",
        "global_learning_rate = 0.001  # 0.001 learning rate yeilded best reuslts\n",
        "loss_list = []\n",
        "\n",
        "# Initializing an empty dictionary to store model accuracies, so that we can perform our comparison at the end.\n",
        "model_accuracies = {}"
      ]
    },
    {
      "cell_type": "code",
      "execution_count": 4,
      "metadata": {},
      "outputs": [],
      "source": [
        "# Perforing data Augmentation and Preprocessing. Transformations, including normalization, are applied to the entire dataset, both train and test, after the split has been done.\n",
        "\n",
        "train_data_transformed = transforms.Compose([\n",
        "    transforms.RandomHorizontalFlip(),\n",
        "    transforms.RandomCrop(32, padding=4),\n",
        "    transforms.ColorJitter(brightness=0.2, contrast=0.2, saturation=0.2, hue=0.1),\n",
        "    transforms.ToTensor(),\n",
        "    transforms.Normalize((0.5, 0.5, 0.5), (0.5, 0.5, 0.5))\n",
        "])\n",
        "\n",
        "# transform_test = transforms.Compose([\n",
        "#     transforms.RandomHorizontalFlip(),\n",
        "#     transforms.RandomCrop(32, padding=4),\n",
        "#     transforms.ColorJitter(brightness=0.2, contrast=0.2, saturation=0.2, hue=0.1),\n",
        "#     transforms.ToTensor(),\n",
        "#     transforms.Normalize((0.5, 0.5, 0.5), (0.5, 0.5, 0.5))\n",
        "# ])\n",
        "\n",
        "test_data_transformed = transforms.Compose([\n",
        "    transforms.ToTensor(),\n",
        "    transforms.Normalize((0.5, 0.5, 0.5), (0.5, 0.5, 0.5))\n",
        "])"
      ]
    },
    {
      "cell_type": "code",
      "execution_count": 5,
      "metadata": {},
      "outputs": [],
      "source": [
        "def perform_data_loading(batch_size):\n",
        "\n",
        "    # Splitting the data into training and test sets, which is predefined in the CIFAR dataset. We have kept num_workers as 4 so that we can perform faster data loading\n",
        "\n",
        "    train_data = torchvision.datasets.CIFAR10(root='./data', train=True, download=True, transform=train_data_transformed)\n",
        "    train_data_loader = torch.utils.data.DataLoader(train_data, batch_size=batch_size, shuffle=True, num_workers=4) \n",
        "\n",
        "    test_data = torchvision.datasets.CIFAR10(root='./data', train=False, download=True, transform=test_data_transformed)\n",
        "    test_data_loader = torch.utils.data.DataLoader(test_data, batch_size=batch_size, shuffle=False, num_workers=4)  \n",
        "    \n",
        "    return train_data_loader, test_data_loader"
      ]
    },
    {
      "cell_type": "code",
      "execution_count": 6,
      "metadata": {},
      "outputs": [],
      "source": [
        "# Model Definition\n",
        "class CNN(nn.Module):\n",
        "    def __init__(self):\n",
        "        super(CNN, self).__init__()\n",
        "        self.c1 = nn.Conv2d(3, 64, 3, padding=1)\n",
        "        self.bn1 = nn.BatchNorm2d(64)\n",
        "        self.pool = nn.MaxPool2d(2, 2)\n",
        "        self.c2 = nn.Conv2d(64, 128, 3, padding=1)\n",
        "        self.bn2 = nn.BatchNorm2d(128)\n",
        "        self.fc1 = nn.Linear(128 * 8 * 8, 256)\n",
        "        self.bn3 = nn.BatchNorm1d(256)\n",
        "        self.fc2 = nn.Linear(256, 128)  # Adding an additional fully connected layer\n",
        "        self.bn4 = nn.BatchNorm1d(128)  # Adding batch normalization for the new layer\n",
        "        self.dropout = nn.Dropout(0.5)\n",
        "        self.fc3 = nn.Linear(128, 10)  # Output layer\n",
        "\n",
        "    def forward(self, x):\n",
        "        x = self.pool(F.relu(self.bn1(self.c1(x))))\n",
        "        x = self.pool(F.relu(self.bn2(self.c2(x))))\n",
        "        x = x.view(-1, 128 * 8 * 8)\n",
        "        x = F.relu(self.bn3(self.fc1(x)))\n",
        "        x = F.relu(self.bn4(self.fc2(x)))  # Applying batch normalization to the new layer\n",
        "        x = self.dropout(x)\n",
        "        x = self.fc3(x)  # Output layer\n",
        "        return x"
      ]
    },
    {
      "cell_type": "code",
      "execution_count": 7,
      "metadata": {},
      "outputs": [],
      "source": [
        "# Defining our Learning Rate Scheduler \n",
        "\n",
        "def def_learning_rate_scheduler(optimizer, epoch):\n",
        "    learning_rate = global_learning_rate\n",
        "    if epoch >= 15:\n",
        "        learning_rate /= 10\n",
        "\n",
        "    for param_group in optimizer.param_groups:\n",
        "        param_group['lr'] = learning_rate"
      ]
    },
    {
      "cell_type": "code",
      "execution_count": 8,
      "metadata": {},
      "outputs": [],
      "source": [
        "# Training our model. This code is global for all our models used today\n",
        "\n",
        "def model_training(recieved_model, train_data_loader, count_epochs):\n",
        "    recieved_model.train()\n",
        "    criterion = nn.CrossEntropyLoss()\n",
        "    # optimizer = optim.SGD(model.parameters(), lr=initial_learning_rate, momentum=0.9, weight_decay=5e-4)  # Add weight decay\n",
        "    optimizer = optim.Adam(recieved_model.parameters(), lr=global_learning_rate, weight_decay=5e-4)  # Use Adam optimizer\n",
        "    accuracy_list = []\n",
        "\n",
        "    for epoch in range(count_epochs):\n",
        "\n",
        "        r_loss = 0.0\n",
        "        correct = 0\n",
        "        total = 0\n",
        "\n",
        "        def_learning_rate_scheduler(optimizer, epoch)\n",
        "        \n",
        "        # We make use of TQDM library to better interpret our results.\n",
        "\n",
        "        with tqdm(train_data_loader, unit=\"batch\", bar_format=\"{l_bar}{bar:40}{r_bar}\") as t:\n",
        "            t.set_description(f\"Epoch {epoch + 1}\")\n",
        "\n",
        "            for i, data in enumerate(t, 0):\n",
        "                input_data, data_labels = data\n",
        "                input_data, data_labels = input_data.to(set_gpu), data_labels.to(set_gpu)\n",
        "                optimizer.zero_grad()\n",
        "                outputs = recieved_model(input_data)\n",
        "                loss = criterion(outputs, data_labels)\n",
        "                loss.backward()\n",
        "                optimizer.step()\n",
        "                r_loss += loss.item()\n",
        "                \n",
        "                _, prediction = torch.max(outputs.data, 1)\n",
        "                total += data_labels.size(0)\n",
        "                correct += (prediction == data_labels).sum().item()\n",
        "            \n",
        "                # Append the average loss for the epoch to the loss list\n",
        "            loss_list.append(r_loss / len(train_data_loader))\n",
        "\n",
        "            accuracy = 100 * correct / total\n",
        "            accuracy_list.append(accuracy)\n",
        "\n",
        "            t.set_postfix(loss=f\"{r_loss / len(train_data_loader):.4f}\", accuracy=f\"{accuracy:.2f}%\")\n",
        "            \n",
        "            print(f\"Epoch {epoch + 1}/{count_epochs}, Loss: {r_loss / len(train_data_loader):.4f}, Accuracy: {accuracy:.2f}%\")\n",
        "    \n",
        "    print(\"Finished Training\")\n",
        "    \n",
        "    return accuracy_list"
      ]
    },
    {
      "cell_type": "code",
      "execution_count": 9,
      "metadata": {},
      "outputs": [],
      "source": [
        "# Evaluation of our model. Again like training, this code is common for all our models used today.\n",
        "\n",
        "def model_evalutaion(recieved_model, test_data_loader):\n",
        "    recieved_model.eval()\n",
        "    correct_hit = 0\n",
        "    total_hit = 0\n",
        "\n",
        "    with torch.no_grad():\n",
        "        for data in test_data_loader:\n",
        "            images_data, labels_data = data\n",
        "            images_data, labels_data = images_data.to(set_gpu), labels_data.to(set_gpu)\n",
        "            outputs = recieved_model(images_data)\n",
        "            _, predicted = torch.max(outputs.data, 1)\n",
        "            total_hit += labels_data.size(0)\n",
        "            correct_hit += (predicted == labels_data).sum().item()\n",
        "    \n",
        "    accuracy = 100 * correct_hit / total_hit\n",
        "    print(f\"Accuracy on the test set: {accuracy}%\")\n",
        "\n",
        "    return accuracy"
      ]
    },
    {
      "cell_type": "code",
      "execution_count": 10,
      "metadata": {},
      "outputs": [
        {
          "name": "stdout",
          "output_type": "stream",
          "text": [
            "Files already downloaded and verified\n",
            "Files already downloaded and verified\n"
          ]
        },
        {
          "data": {
            "text/plain": [
              "CNN(\n",
              "  (c1): Conv2d(3, 64, kernel_size=(3, 3), stride=(1, 1), padding=(1, 1))\n",
              "  (bn1): BatchNorm2d(64, eps=1e-05, momentum=0.1, affine=True, track_running_stats=True)\n",
              "  (pool): MaxPool2d(kernel_size=2, stride=2, padding=0, dilation=1, ceil_mode=False)\n",
              "  (c2): Conv2d(64, 128, kernel_size=(3, 3), stride=(1, 1), padding=(1, 1))\n",
              "  (bn2): BatchNorm2d(128, eps=1e-05, momentum=0.1, affine=True, track_running_stats=True)\n",
              "  (fc1): Linear(in_features=8192, out_features=256, bias=True)\n",
              "  (bn3): BatchNorm1d(256, eps=1e-05, momentum=0.1, affine=True, track_running_stats=True)\n",
              "  (fc2): Linear(in_features=256, out_features=128, bias=True)\n",
              "  (bn4): BatchNorm1d(128, eps=1e-05, momentum=0.1, affine=True, track_running_stats=True)\n",
              "  (dropout): Dropout(p=0.5, inplace=False)\n",
              "  (fc3): Linear(in_features=128, out_features=10, bias=True)\n",
              ")"
            ]
          },
          "execution_count": 10,
          "metadata": {},
          "output_type": "execute_result"
        }
      ],
      "source": [
        "# Get our data loaders to work on appending data to our variables\n",
        "\n",
        "loader_train_data, loader_test_data = perform_data_loading(batch_size)\n",
        "\n",
        "# Create a list of batches for the training data\n",
        "loader_train_data = [(inputs.to(set_gpu), labels.to(set_gpu)) for inputs, labels in loader_train_data]\n",
        "\n",
        "# Create a list of batches for the test data\n",
        "loader_test_data = [(inputs.to(set_gpu), labels.to(set_gpu)) for inputs, labels in loader_test_data]\n",
        "\n",
        "# Move the model to the GPU\n",
        "model_CNN = CNN()\n",
        "model_CNN.to(set_gpu)"
      ]
    },
    {
      "cell_type": "code",
      "execution_count": 11,
      "metadata": {},
      "outputs": [
        {
          "name": "stderr",
          "output_type": "stream",
          "text": [
            "Epoch 1: 100%|████████████████████████████████████████| 782/782 [00:02<00:00, 267.91batch/s]\n"
          ]
        },
        {
          "name": "stdout",
          "output_type": "stream",
          "text": [
            "Epoch 1/17, Loss: 1.4919, Accuracy: 46.23%\n"
          ]
        },
        {
          "name": "stderr",
          "output_type": "stream",
          "text": [
            "Epoch 2: 100%|████████████████████████████████████████| 782/782 [00:02<00:00, 291.01batch/s]\n"
          ]
        },
        {
          "name": "stdout",
          "output_type": "stream",
          "text": [
            "Epoch 2/17, Loss: 1.1746, Accuracy: 58.62%\n"
          ]
        },
        {
          "name": "stderr",
          "output_type": "stream",
          "text": [
            "Epoch 3: 100%|████████████████████████████████████████| 782/782 [00:02<00:00, 277.15batch/s]\n"
          ]
        },
        {
          "name": "stdout",
          "output_type": "stream",
          "text": [
            "Epoch 3/17, Loss: 1.0485, Accuracy: 63.12%\n"
          ]
        },
        {
          "name": "stderr",
          "output_type": "stream",
          "text": [
            "Epoch 4: 100%|████████████████████████████████████████| 782/782 [00:02<00:00, 268.52batch/s]\n"
          ]
        },
        {
          "name": "stdout",
          "output_type": "stream",
          "text": [
            "Epoch 4/17, Loss: 0.9458, Accuracy: 67.06%\n"
          ]
        },
        {
          "name": "stderr",
          "output_type": "stream",
          "text": [
            "Epoch 5: 100%|████████████████████████████████████████| 782/782 [00:03<00:00, 255.10batch/s]\n"
          ]
        },
        {
          "name": "stdout",
          "output_type": "stream",
          "text": [
            "Epoch 5/17, Loss: 0.8540, Accuracy: 70.37%\n"
          ]
        },
        {
          "name": "stderr",
          "output_type": "stream",
          "text": [
            "Epoch 6: 100%|████████████████████████████████████████| 782/782 [00:02<00:00, 278.70batch/s]\n"
          ]
        },
        {
          "name": "stdout",
          "output_type": "stream",
          "text": [
            "Epoch 6/17, Loss: 0.7648, Accuracy: 73.32%\n"
          ]
        },
        {
          "name": "stderr",
          "output_type": "stream",
          "text": [
            "Epoch 7: 100%|████████████████████████████████████████| 782/782 [00:02<00:00, 267.92batch/s]\n"
          ]
        },
        {
          "name": "stdout",
          "output_type": "stream",
          "text": [
            "Epoch 7/17, Loss: 0.6689, Accuracy: 76.65%\n"
          ]
        },
        {
          "name": "stderr",
          "output_type": "stream",
          "text": [
            "Epoch 8: 100%|████████████████████████████████████████| 782/782 [00:03<00:00, 251.24batch/s]\n"
          ]
        },
        {
          "name": "stdout",
          "output_type": "stream",
          "text": [
            "Epoch 8/17, Loss: 0.5888, Accuracy: 79.58%\n"
          ]
        },
        {
          "name": "stderr",
          "output_type": "stream",
          "text": [
            "Epoch 9: 100%|████████████████████████████████████████| 782/782 [00:02<00:00, 281.02batch/s]\n"
          ]
        },
        {
          "name": "stdout",
          "output_type": "stream",
          "text": [
            "Epoch 9/17, Loss: 0.5133, Accuracy: 82.13%\n"
          ]
        },
        {
          "name": "stderr",
          "output_type": "stream",
          "text": [
            "Epoch 10: 100%|████████████████████████████████████████| 782/782 [00:02<00:00, 280.84batch/s]\n"
          ]
        },
        {
          "name": "stdout",
          "output_type": "stream",
          "text": [
            "Epoch 10/17, Loss: 0.4473, Accuracy: 84.63%\n"
          ]
        },
        {
          "name": "stderr",
          "output_type": "stream",
          "text": [
            "Epoch 11: 100%|████████████████████████████████████████| 782/782 [00:02<00:00, 264.09batch/s]\n"
          ]
        },
        {
          "name": "stdout",
          "output_type": "stream",
          "text": [
            "Epoch 11/17, Loss: 0.3977, Accuracy: 86.43%\n"
          ]
        },
        {
          "name": "stderr",
          "output_type": "stream",
          "text": [
            "Epoch 12: 100%|████████████████████████████████████████| 782/782 [00:03<00:00, 259.84batch/s]\n"
          ]
        },
        {
          "name": "stdout",
          "output_type": "stream",
          "text": [
            "Epoch 12/17, Loss: 0.3574, Accuracy: 87.56%\n"
          ]
        },
        {
          "name": "stderr",
          "output_type": "stream",
          "text": [
            "Epoch 13: 100%|████████████████████████████████████████| 782/782 [00:03<00:00, 238.97batch/s]\n"
          ]
        },
        {
          "name": "stdout",
          "output_type": "stream",
          "text": [
            "Epoch 13/17, Loss: 0.3227, Accuracy: 88.85%\n"
          ]
        },
        {
          "name": "stderr",
          "output_type": "stream",
          "text": [
            "Epoch 14: 100%|████████████████████████████████████████| 782/782 [00:03<00:00, 239.65batch/s]\n"
          ]
        },
        {
          "name": "stdout",
          "output_type": "stream",
          "text": [
            "Epoch 14/17, Loss: 0.2975, Accuracy: 89.85%\n"
          ]
        },
        {
          "name": "stderr",
          "output_type": "stream",
          "text": [
            "Epoch 15: 100%|████████████████████████████████████████| 782/782 [00:02<00:00, 268.98batch/s]\n"
          ]
        },
        {
          "name": "stdout",
          "output_type": "stream",
          "text": [
            "Epoch 15/17, Loss: 0.2760, Accuracy: 90.62%\n"
          ]
        },
        {
          "name": "stderr",
          "output_type": "stream",
          "text": [
            "Epoch 16: 100%|████████████████████████████████████████| 782/782 [00:03<00:00, 258.89batch/s]\n"
          ]
        },
        {
          "name": "stdout",
          "output_type": "stream",
          "text": [
            "Epoch 16/17, Loss: 0.1669, Accuracy: 94.57%\n"
          ]
        },
        {
          "name": "stderr",
          "output_type": "stream",
          "text": [
            "Epoch 17: 100%|████████████████████████████████████████| 782/782 [00:03<00:00, 260.00batch/s]\n"
          ]
        },
        {
          "name": "stdout",
          "output_type": "stream",
          "text": [
            "Epoch 17/17, Loss: 0.0827, Accuracy: 98.05%\n",
            "Finished Training\n",
            "Accuracy on the test set: 73.55%\n"
          ]
        }
      ],
      "source": [
        "# Creating and training the CNN model\n",
        "\n",
        "accuracy_list = model_training(model_CNN, loader_train_data, count_epochs)\n",
        "\n",
        "model_name = 'CNN'\n",
        "accuracy = model_evalutaion(model_CNN, loader_test_data) \n",
        "model_CNN= model_CNN.cpu()\n",
        "model_accuracies[model_name] = accuracy"
      ]
    },
    {
      "cell_type": "code",
      "execution_count": 12,
      "metadata": {},
      "outputs": [
        {
          "data": {
            "image/png": "[encoded data removed]",
            "text/plain": [
              "<Figure size 1000x500 with 1 Axes>"
            ]
          },
          "metadata": {},
          "output_type": "display_data"
        },
        {
          "data": {
            "image/png": "[encoded data removed]",
            "text/plain": [
              "<Figure size 1000x500 with 1 Axes>"
            ]
          },
          "metadata": {},
          "output_type": "display_data"
        }
      ],
      "source": [
        "# Create a new figure for the loss vs. epoch plot for our CNN results\n",
        "\n",
        "plt.figure(figsize=(10, 5))\n",
        "\n",
        "# Plot the loss values\n",
        "plt.plot(range(1, count_epochs + 1), loss_list, label='loss', color='red')\n",
        "plt.xlabel('Epoch')\n",
        "plt.ylabel('Loss')\n",
        "plt.legend(loc='upper right')\n",
        "\n",
        "plt.figure(figsize=(10, 5))\n",
        "\n",
        "plt.plot(range(1, count_epochs + 1), accuracy_list, label='accuracy')\n",
        "plt.xlabel('Epoch')\n",
        "plt.ylabel('Accuracy')\n",
        "plt.ylim([0, 100])\n",
        "plt.legend(loc='lower right')\n",
        "plt.show()"
      ]
    },
    {
      "cell_type": "markdown",
      "metadata": {},
      "source": [
        "# Part 2- Implementing other models"
      ]
    },
    {
      "cell_type": "markdown",
      "metadata": {
        "id": "RLxD5HYu28Ml"
      },
      "source": [
        "## LeNet"
      ]
    },
    {
      "cell_type": "code",
      "execution_count": 13,
      "metadata": {
        "id": "UfbbVMvJ28Mm"
      },
      "outputs": [
        {
          "name": "stderr",
          "output_type": "stream",
          "text": [
            "Epoch 1: 100%|████████████████████████████████████████| 782/782 [00:01<00:00, 461.93batch/s]\n"
          ]
        },
        {
          "name": "stdout",
          "output_type": "stream",
          "text": [
            "Epoch 1/17, Loss: 1.4860, Accuracy: 47.77%\n"
          ]
        },
        {
          "name": "stderr",
          "output_type": "stream",
          "text": [
            "Epoch 2: 100%|████████████████████████████████████████| 782/782 [00:01<00:00, 476.17batch/s]\n"
          ]
        },
        {
          "name": "stdout",
          "output_type": "stream",
          "text": [
            "Epoch 2/17, Loss: 1.1740, Accuracy: 59.68%\n"
          ]
        },
        {
          "name": "stderr",
          "output_type": "stream",
          "text": [
            "Epoch 3: 100%|████████████████████████████████████████| 782/782 [00:01<00:00, 391.75batch/s]\n"
          ]
        },
        {
          "name": "stdout",
          "output_type": "stream",
          "text": [
            "Epoch 3/17, Loss: 1.0145, Accuracy: 65.17%\n"
          ]
        },
        {
          "name": "stderr",
          "output_type": "stream",
          "text": [
            "Epoch 4: 100%|████████████████████████████████████████| 782/782 [00:01<00:00, 494.69batch/s]\n"
          ]
        },
        {
          "name": "stdout",
          "output_type": "stream",
          "text": [
            "Epoch 4/17, Loss: 0.8991, Accuracy: 69.09%\n"
          ]
        },
        {
          "name": "stderr",
          "output_type": "stream",
          "text": [
            "Epoch 5: 100%|████████████████████████████████████████| 782/782 [00:01<00:00, 443.94batch/s]\n"
          ]
        },
        {
          "name": "stdout",
          "output_type": "stream",
          "text": [
            "Epoch 5/17, Loss: 0.7912, Accuracy: 73.18%\n"
          ]
        },
        {
          "name": "stderr",
          "output_type": "stream",
          "text": [
            "Epoch 6: 100%|████████████████████████████████████████| 782/782 [00:01<00:00, 518.33batch/s]\n"
          ]
        },
        {
          "name": "stdout",
          "output_type": "stream",
          "text": [
            "Epoch 6/17, Loss: 0.7009, Accuracy: 76.35%\n"
          ]
        },
        {
          "name": "stderr",
          "output_type": "stream",
          "text": [
            "Epoch 7: 100%|████████████████████████████████████████| 782/782 [00:01<00:00, 505.60batch/s]\n"
          ]
        },
        {
          "name": "stdout",
          "output_type": "stream",
          "text": [
            "Epoch 7/17, Loss: 0.6063, Accuracy: 79.80%\n"
          ]
        },
        {
          "name": "stderr",
          "output_type": "stream",
          "text": [
            "Epoch 8: 100%|████████████████████████████████████████| 782/782 [00:01<00:00, 472.58batch/s]\n"
          ]
        },
        {
          "name": "stdout",
          "output_type": "stream",
          "text": [
            "Epoch 8/17, Loss: 0.5228, Accuracy: 82.91%\n"
          ]
        },
        {
          "name": "stderr",
          "output_type": "stream",
          "text": [
            "Epoch 9: 100%|████████████████████████████████████████| 782/782 [00:01<00:00, 500.80batch/s]\n"
          ]
        },
        {
          "name": "stdout",
          "output_type": "stream",
          "text": [
            "Epoch 9/17, Loss: 0.4611, Accuracy: 84.81%\n"
          ]
        },
        {
          "name": "stderr",
          "output_type": "stream",
          "text": [
            "Epoch 10: 100%|████████████████████████████████████████| 782/782 [00:01<00:00, 426.97batch/s]\n"
          ]
        },
        {
          "name": "stdout",
          "output_type": "stream",
          "text": [
            "Epoch 10/17, Loss: 0.4077, Accuracy: 86.67%\n"
          ]
        },
        {
          "name": "stderr",
          "output_type": "stream",
          "text": [
            "Epoch 11: 100%|████████████████████████████████████████| 782/782 [00:01<00:00, 527.92batch/s]\n"
          ]
        },
        {
          "name": "stdout",
          "output_type": "stream",
          "text": [
            "Epoch 11/17, Loss: 0.3551, Accuracy: 88.36%\n"
          ]
        },
        {
          "name": "stderr",
          "output_type": "stream",
          "text": [
            "Epoch 12: 100%|████████████████████████████████████████| 782/782 [00:01<00:00, 527.69batch/s]\n"
          ]
        },
        {
          "name": "stdout",
          "output_type": "stream",
          "text": [
            "Epoch 12/17, Loss: 0.3229, Accuracy: 89.49%\n"
          ]
        },
        {
          "name": "stderr",
          "output_type": "stream",
          "text": [
            "Epoch 13: 100%|████████████████████████████████████████| 782/782 [00:01<00:00, 508.71batch/s]\n"
          ]
        },
        {
          "name": "stdout",
          "output_type": "stream",
          "text": [
            "Epoch 13/17, Loss: 0.3006, Accuracy: 90.04%\n"
          ]
        },
        {
          "name": "stderr",
          "output_type": "stream",
          "text": [
            "Epoch 14: 100%|████████████████████████████████████████| 782/782 [00:01<00:00, 541.89batch/s]\n"
          ]
        },
        {
          "name": "stdout",
          "output_type": "stream",
          "text": [
            "Epoch 14/17, Loss: 0.2718, Accuracy: 91.21%\n"
          ]
        },
        {
          "name": "stderr",
          "output_type": "stream",
          "text": [
            "Epoch 15: 100%|████████████████████████████████████████| 782/782 [00:01<00:00, 548.77batch/s]\n"
          ]
        },
        {
          "name": "stdout",
          "output_type": "stream",
          "text": [
            "Epoch 15/17, Loss: 0.2612, Accuracy: 91.37%\n"
          ]
        },
        {
          "name": "stderr",
          "output_type": "stream",
          "text": [
            "Epoch 16: 100%|████████████████████████████████████████| 782/782 [00:01<00:00, 506.78batch/s]\n"
          ]
        },
        {
          "name": "stdout",
          "output_type": "stream",
          "text": [
            "Epoch 16/17, Loss: 0.1773, Accuracy: 94.54%\n"
          ]
        },
        {
          "name": "stderr",
          "output_type": "stream",
          "text": [
            "Epoch 17: 100%|████████████████████████████████████████| 782/782 [00:01<00:00, 522.18batch/s]\n"
          ]
        },
        {
          "name": "stdout",
          "output_type": "stream",
          "text": [
            "Epoch 17/17, Loss: 0.0858, Accuracy: 98.71%\n",
            "Finished Training\n",
            "Accuracy on the test set: 70.94%\n"
          ]
        },
        {
          "data": {
            "image/png": "[encoded data removed]",
            "text/plain": [
              "<Figure size 1200x400 with 2 Axes>"
            ]
          },
          "metadata": {},
          "output_type": "display_data"
        }
      ],
      "source": [
        "class LeNet(nn.Module):\n",
        "    def __init__(self):\n",
        "        super(LeNet, self).__init__()\n",
        "        self.c1 = nn.Conv2d(3, 32, 5)\n",
        "        self.c_b1 = nn.BatchNorm2d(32)\n",
        "        self.pool = nn.MaxPool2d(2, 2)\n",
        "        self.c2 = nn.Conv2d(32, 64, 5)\n",
        "        self.c_b2 = nn.BatchNorm2d(64)\n",
        "        self.fc1 = nn.Linear(64 * 5 * 5, 256)\n",
        "        self.fc1_bn = nn.BatchNorm1d(256)\n",
        "        self.fc2 = nn.Linear(256, 128)\n",
        "        self.fc2_bn = nn.BatchNorm1d(128)\n",
        "        self.fc3 = nn.Linear(128, 10)\n",
        "        self.fc3_bn = nn.BatchNorm1d(10)\n",
        "\n",
        "    def forward(self, x):\n",
        "        x = self.pool(F.relu(self.c_b1(self.c1(x))))\n",
        "        x = self.pool(F.relu(self.c_b2(self.c2(x))))\n",
        "        x = x.view(-1, 64 * 5 * 5)\n",
        "        x = F.relu(self.fc1_bn(self.fc1(x)))\n",
        "        x = F.relu(self.fc2_bn(self.fc2(x)))\n",
        "        x = self.fc3_bn(self.fc3(x))\n",
        "        return x\n",
        "\n",
        "\n",
        "# Creating our LeNet model\n",
        "model_lenet = LeNet()\n",
        "model_lenet = model_lenet.to(set_gpu)\n",
        "\n",
        "# optimizer_lenet = torch.optim.SGD(model_lenet.parameters(), lr=0.01, weight_decay=1e-5)\n",
        "\n",
        "history_lenet = model_training(model_lenet, loader_train_data, count_epochs)\n",
        "\n",
        "# Evaluating the LeNet model on the test data\n",
        "\n",
        "# Evaluate and store accuracy for ModifiedLeNet\n",
        "model_name = 'ModifiedLeNet'\n",
        "accuracy = model_evalutaion(model_lenet, loader_test_data)  # Assuming evaluate_model returns accuracy\n",
        "model_accuracies[model_name] = accuracy\n",
        "model_lenet=model_lenet.cpu()\n",
        "\n",
        "train_losses = history_lenet  \n",
        "val_losses = history_lenet  \n",
        "val_accuracies = history_lenet  \n",
        "count_epochs = len(history_lenet)  \n",
        "\n",
        "# Plot the training and validation losses for our LeNet model\n",
        "plt.figure(figsize=(12, 4))\n",
        "plt.subplot(1, 2, 1)\n",
        "plt.plot(range(1, count_epochs + 1), train_losses, label='Training Loss', color='red')\n",
        "plt.plot(range(1, count_epochs + 1), val_losses, label='Validation Loss', color='blue')\n",
        "plt.xlabel('Epoch')\n",
        "plt.ylabel('Loss')\n",
        "plt.legend()\n",
        "\n",
        "# Plot the validation accuracy\n",
        "plt.subplot(1, 2, 2)\n",
        "plt.plot(range(1, count_epochs + 1), val_accuracies, label='Validation Accuracy', color='green')\n",
        "plt.xlabel('Epoch')\n",
        "plt.ylabel('Accuracy')\n",
        "plt.ylim(0, 100)\n",
        "\n",
        "plt.tight_layout()\n",
        "plt.show()"
      ]
    },
    {
      "cell_type": "markdown",
      "metadata": {
        "id": "e350Mq9m28Mn"
      },
      "source": [
        "## EfficientNet"
      ]
    },
    {
      "cell_type": "code",
      "execution_count": 14,
      "metadata": {
        "id": "u3f77u4T28Mo"
      },
      "outputs": [
        {
          "name": "stderr",
          "output_type": "stream",
          "text": [
            "Epoch 1: 100%|████████████████████████████████████████| 782/782 [00:17<00:00, 44.91batch/s]\n"
          ]
        },
        {
          "name": "stdout",
          "output_type": "stream",
          "text": [
            "Epoch 1/17, Loss: 1.8834, Accuracy: 29.20%\n"
          ]
        },
        {
          "name": "stderr",
          "output_type": "stream",
          "text": [
            "Epoch 2: 100%|████████████████████████████████████████| 782/782 [00:17<00:00, 45.69batch/s]\n"
          ]
        },
        {
          "name": "stdout",
          "output_type": "stream",
          "text": [
            "Epoch 2/17, Loss: 1.5858, Accuracy: 41.61%\n"
          ]
        },
        {
          "name": "stderr",
          "output_type": "stream",
          "text": [
            "Epoch 3: 100%|████████████████████████████████████████| 782/782 [00:17<00:00, 44.92batch/s]\n"
          ]
        },
        {
          "name": "stdout",
          "output_type": "stream",
          "text": [
            "Epoch 3/17, Loss: 1.3899, Accuracy: 49.32%\n"
          ]
        },
        {
          "name": "stderr",
          "output_type": "stream",
          "text": [
            "Epoch 4: 100%|████████████████████████████████████████| 782/782 [00:17<00:00, 43.78batch/s]\n"
          ]
        },
        {
          "name": "stdout",
          "output_type": "stream",
          "text": [
            "Epoch 4/17, Loss: 1.2483, Accuracy: 55.07%\n"
          ]
        },
        {
          "name": "stderr",
          "output_type": "stream",
          "text": [
            "Epoch 5: 100%|████████████████████████████████████████| 782/782 [00:17<00:00, 44.30batch/s]\n"
          ]
        },
        {
          "name": "stdout",
          "output_type": "stream",
          "text": [
            "Epoch 5/17, Loss: 1.1505, Accuracy: 58.90%\n"
          ]
        },
        {
          "name": "stderr",
          "output_type": "stream",
          "text": [
            "Epoch 6: 100%|████████████████████████████████████████| 782/782 [00:17<00:00, 44.64batch/s]\n"
          ]
        },
        {
          "name": "stdout",
          "output_type": "stream",
          "text": [
            "Epoch 6/17, Loss: 1.0764, Accuracy: 61.81%\n"
          ]
        },
        {
          "name": "stderr",
          "output_type": "stream",
          "text": [
            "Epoch 7: 100%|████████████████████████████████████████| 782/782 [00:17<00:00, 45.00batch/s]\n"
          ]
        },
        {
          "name": "stdout",
          "output_type": "stream",
          "text": [
            "Epoch 7/17, Loss: 1.0176, Accuracy: 64.02%\n"
          ]
        },
        {
          "name": "stderr",
          "output_type": "stream",
          "text": [
            "Epoch 8: 100%|████████████████████████████████████████| 782/782 [00:17<00:00, 44.71batch/s]\n"
          ]
        },
        {
          "name": "stdout",
          "output_type": "stream",
          "text": [
            "Epoch 8/17, Loss: 0.9634, Accuracy: 66.14%\n"
          ]
        },
        {
          "name": "stderr",
          "output_type": "stream",
          "text": [
            "Epoch 9: 100%|████████████████████████████████████████| 782/782 [00:17<00:00, 45.37batch/s]\n"
          ]
        },
        {
          "name": "stdout",
          "output_type": "stream",
          "text": [
            "Epoch 9/17, Loss: 0.9164, Accuracy: 67.92%\n"
          ]
        },
        {
          "name": "stderr",
          "output_type": "stream",
          "text": [
            "Epoch 10: 100%|████████████████████████████████████████| 782/782 [00:17<00:00, 45.33batch/s]\n"
          ]
        },
        {
          "name": "stdout",
          "output_type": "stream",
          "text": [
            "Epoch 10/17, Loss: 0.8787, Accuracy: 69.35%\n"
          ]
        },
        {
          "name": "stderr",
          "output_type": "stream",
          "text": [
            "Epoch 11: 100%|████████████████████████████████████████| 782/782 [00:17<00:00, 45.63batch/s]\n"
          ]
        },
        {
          "name": "stdout",
          "output_type": "stream",
          "text": [
            "Epoch 11/17, Loss: 0.8432, Accuracy: 70.62%\n"
          ]
        },
        {
          "name": "stderr",
          "output_type": "stream",
          "text": [
            "Epoch 12: 100%|████████████████████████████████████████| 782/782 [00:17<00:00, 45.49batch/s]\n"
          ]
        },
        {
          "name": "stdout",
          "output_type": "stream",
          "text": [
            "Epoch 12/17, Loss: 0.8096, Accuracy: 71.83%\n"
          ]
        },
        {
          "name": "stderr",
          "output_type": "stream",
          "text": [
            "Epoch 13: 100%|████████████████████████████████████████| 782/782 [00:18<00:00, 42.33batch/s]\n"
          ]
        },
        {
          "name": "stdout",
          "output_type": "stream",
          "text": [
            "Epoch 13/17, Loss: 0.7842, Accuracy: 72.97%\n"
          ]
        },
        {
          "name": "stderr",
          "output_type": "stream",
          "text": [
            "Epoch 14: 100%|████████████████████████████████████████| 782/782 [00:18<00:00, 42.28batch/s]\n"
          ]
        },
        {
          "name": "stdout",
          "output_type": "stream",
          "text": [
            "Epoch 14/17, Loss: 0.7576, Accuracy: 73.93%\n"
          ]
        },
        {
          "name": "stderr",
          "output_type": "stream",
          "text": [
            "Epoch 15: 100%|████████████████████████████████████████| 782/782 [00:18<00:00, 42.37batch/s]\n"
          ]
        },
        {
          "name": "stdout",
          "output_type": "stream",
          "text": [
            "Epoch 15/17, Loss: 0.7323, Accuracy: 74.49%\n"
          ]
        },
        {
          "name": "stderr",
          "output_type": "stream",
          "text": [
            "Epoch 16: 100%|████████████████████████████████████████| 782/782 [00:17<00:00, 44.97batch/s]\n"
          ]
        },
        {
          "name": "stdout",
          "output_type": "stream",
          "text": [
            "Epoch 16/17, Loss: 0.6035, Accuracy: 79.25%\n"
          ]
        },
        {
          "name": "stderr",
          "output_type": "stream",
          "text": [
            "Epoch 17: 100%|████████████████████████████████████████| 782/782 [00:17<00:00, 44.50batch/s]\n"
          ]
        },
        {
          "name": "stdout",
          "output_type": "stream",
          "text": [
            "Epoch 17/17, Loss: 0.5386, Accuracy: 81.50%\n",
            "Finished Training\n",
            "Accuracy on the test set: 71.55%\n"
          ]
        },
        {
          "data": {
            "image/png": "[encoded data removed]",
            "text/plain": [
              "<Figure size 640x480 with 1 Axes>"
            ]
          },
          "metadata": {},
          "output_type": "display_data"
        }
      ],
      "source": [
        "\n",
        "# Defining a custom EfficientNet model for our analysis\n",
        "from efficientnet_pytorch import EfficientNet\n",
        "\n",
        "class ModelEfficientNet(nn.Module):\n",
        "    def __init__(self, num_classes=10):\n",
        "        super(ModelEfficientNet, self).__init__()\n",
        "        self.efficientnet = EfficientNet.from_name('efficientnet-b0')  \n",
        "        in_features = self.efficientnet._fc.in_features\n",
        "        self.efficientnet._fc = nn.Sequential(\n",
        "            nn.Linear(in_features, 256),\n",
        "            nn.ReLU(),\n",
        "            nn.BatchNorm1d(256),\n",
        "            nn.Linear(256, num_classes)\n",
        "        )\n",
        "\n",
        "    def forward(self, x):\n",
        "        return self.efficientnet(x)\n",
        "\n",
        "# Initializing the EfficientNet model\n",
        "model_efficientnet = ModelEfficientNet(num_classes=10)  # Specify num_classes for CIFAR-10\n",
        "\n",
        "# Moving the model to the processing_device\n",
        "model_efficientnet = model_efficientnet.to(set_gpu)\n",
        "\n",
        "train_accuracy_list = model_training(model_efficientnet, loader_train_data, count_epochs)\n",
        "\n",
        "# # Evaluating the EfficientNet model and store accuracy for ModifiedEfficientNet\n",
        "\n",
        "model_name = 'ModifiedEfficientNet'\n",
        "accuracy = model_evalutaion(model_efficientnet, loader_test_data)  # Assuming evaluate_model returns accuracy\n",
        "model_accuracies[model_name] = accuracy\n",
        "\n",
        "model_efficientnet=model_efficientnet.cpu()\n",
        "# Plot the accuracy for our EfficientNet model\n",
        "plt.subplot(1, 2, 2)\n",
        "plt.plot(range(1, count_epochs + 1), train_accuracy_list, label='Accuracy', color='green')\n",
        "plt.xlabel('Epoch')\n",
        "plt.ylabel('Accuracy')\n",
        "plt.ylim(0, 100)\n",
        "plt.legend()\n",
        "plt.tight_layout()\n",
        "plt.show()\n",
        "\n"
      ]
    },
    {
      "cell_type": "markdown",
      "metadata": {
        "id": "A_Dbqtx328Mo"
      },
      "source": [
        "## ResNet18"
      ]
    },
    {
      "cell_type": "code",
      "execution_count": 15,
      "metadata": {
        "id": "9sIdex2928Mp"
      },
      "outputs": [
        {
          "name": "stderr",
          "output_type": "stream",
          "text": [
            "/home/kyrotron/miniconda3/envs/ptrch/lib/python3.9/site-packages/torchvision/models/_utils.py:208: UserWarning: The parameter 'pretrained' is deprecated since 0.13 and may be removed in the future, please use 'weights' instead.\n",
            "  warnings.warn(\n",
            "/home/kyrotron/miniconda3/envs/ptrch/lib/python3.9/site-packages/torchvision/models/_utils.py:223: UserWarning: Arguments other than a weight enum or `None` for 'weights' are deprecated since 0.13 and may be removed in the future. The current behavior is equivalent to passing `weights=ResNet18_Weights.IMAGENET1K_V1`. You can also use `weights=ResNet18_Weights.DEFAULT` to get the most up-to-date weights.\n",
            "  warnings.warn(msg)\n",
            "Epoch 1: 100%|████████████████████████████████████████| 782/782 [00:09<00:00, 85.54batch/s]\n"
          ]
        },
        {
          "name": "stdout",
          "output_type": "stream",
          "text": [
            "Epoch 1/17, Loss: 1.1776, Accuracy: 59.66%\n"
          ]
        },
        {
          "name": "stderr",
          "output_type": "stream",
          "text": [
            "Epoch 2: 100%|████████████████████████████████████████| 782/782 [00:08<00:00, 86.95batch/s]\n"
          ]
        },
        {
          "name": "stdout",
          "output_type": "stream",
          "text": [
            "Epoch 2/17, Loss: 0.8700, Accuracy: 70.65%\n"
          ]
        },
        {
          "name": "stderr",
          "output_type": "stream",
          "text": [
            "Epoch 3: 100%|████████████████████████████████████████| 782/782 [00:08<00:00, 87.65batch/s]\n"
          ]
        },
        {
          "name": "stdout",
          "output_type": "stream",
          "text": [
            "Epoch 3/17, Loss: 0.7438, Accuracy: 75.12%\n"
          ]
        },
        {
          "name": "stderr",
          "output_type": "stream",
          "text": [
            "Epoch 4: 100%|████████████████████████████████████████| 782/782 [00:08<00:00, 87.67batch/s]\n"
          ]
        },
        {
          "name": "stdout",
          "output_type": "stream",
          "text": [
            "Epoch 4/17, Loss: 0.6450, Accuracy: 78.54%\n"
          ]
        },
        {
          "name": "stderr",
          "output_type": "stream",
          "text": [
            "Epoch 5: 100%|████████████████████████████████████████| 782/782 [00:08<00:00, 87.33batch/s]\n"
          ]
        },
        {
          "name": "stdout",
          "output_type": "stream",
          "text": [
            "Epoch 5/17, Loss: 0.5631, Accuracy: 81.04%\n"
          ]
        },
        {
          "name": "stderr",
          "output_type": "stream",
          "text": [
            "Epoch 6: 100%|████████████████████████████████████████| 782/782 [00:09<00:00, 85.70batch/s]\n"
          ]
        },
        {
          "name": "stdout",
          "output_type": "stream",
          "text": [
            "Epoch 6/17, Loss: 0.4939, Accuracy: 83.44%\n"
          ]
        },
        {
          "name": "stderr",
          "output_type": "stream",
          "text": [
            "Epoch 7: 100%|████████████████████████████████████████| 782/782 [00:08<00:00, 87.76batch/s]\n"
          ]
        },
        {
          "name": "stdout",
          "output_type": "stream",
          "text": [
            "Epoch 7/17, Loss: 0.4433, Accuracy: 85.06%\n"
          ]
        },
        {
          "name": "stderr",
          "output_type": "stream",
          "text": [
            "Epoch 8: 100%|████████████████████████████████████████| 782/782 [00:08<00:00, 88.36batch/s]\n"
          ]
        },
        {
          "name": "stdout",
          "output_type": "stream",
          "text": [
            "Epoch 8/17, Loss: 0.3941, Accuracy: 86.87%\n"
          ]
        },
        {
          "name": "stderr",
          "output_type": "stream",
          "text": [
            "Epoch 9: 100%|████████████████████████████████████████| 782/782 [00:09<00:00, 84.20batch/s]\n"
          ]
        },
        {
          "name": "stdout",
          "output_type": "stream",
          "text": [
            "Epoch 9/17, Loss: 0.3549, Accuracy: 88.04%\n"
          ]
        },
        {
          "name": "stderr",
          "output_type": "stream",
          "text": [
            "Epoch 10: 100%|████████████████████████████████████████| 782/782 [00:08<00:00, 87.91batch/s]\n"
          ]
        },
        {
          "name": "stdout",
          "output_type": "stream",
          "text": [
            "Epoch 10/17, Loss: 0.3313, Accuracy: 88.71%\n"
          ]
        },
        {
          "name": "stderr",
          "output_type": "stream",
          "text": [
            "Epoch 11: 100%|████████████████████████████████████████| 782/782 [00:08<00:00, 87.61batch/s]\n"
          ]
        },
        {
          "name": "stdout",
          "output_type": "stream",
          "text": [
            "Epoch 11/17, Loss: 0.3058, Accuracy: 89.60%\n"
          ]
        },
        {
          "name": "stderr",
          "output_type": "stream",
          "text": [
            "Epoch 12: 100%|████████████████████████████████████████| 782/782 [00:09<00:00, 85.44batch/s]\n"
          ]
        },
        {
          "name": "stdout",
          "output_type": "stream",
          "text": [
            "Epoch 12/17, Loss: 0.2808, Accuracy: 90.40%\n"
          ]
        },
        {
          "name": "stderr",
          "output_type": "stream",
          "text": [
            "Epoch 13: 100%|████████████████████████████████████████| 782/782 [00:08<00:00, 87.11batch/s]\n"
          ]
        },
        {
          "name": "stdout",
          "output_type": "stream",
          "text": [
            "Epoch 13/17, Loss: 0.2707, Accuracy: 90.79%\n"
          ]
        },
        {
          "name": "stderr",
          "output_type": "stream",
          "text": [
            "Epoch 14: 100%|████████████████████████████████████████| 782/782 [00:08<00:00, 87.35batch/s]\n"
          ]
        },
        {
          "name": "stdout",
          "output_type": "stream",
          "text": [
            "Epoch 14/17, Loss: 0.2586, Accuracy: 91.16%\n"
          ]
        },
        {
          "name": "stderr",
          "output_type": "stream",
          "text": [
            "Epoch 15: 100%|████████████████████████████████████████| 782/782 [00:09<00:00, 86.23batch/s]\n"
          ]
        },
        {
          "name": "stdout",
          "output_type": "stream",
          "text": [
            "Epoch 15/17, Loss: 0.2443, Accuracy: 91.48%\n"
          ]
        },
        {
          "name": "stderr",
          "output_type": "stream",
          "text": [
            "Epoch 16: 100%|████████████████████████████████████████| 782/782 [00:08<00:00, 87.18batch/s]\n"
          ]
        },
        {
          "name": "stdout",
          "output_type": "stream",
          "text": [
            "Epoch 16/17, Loss: 0.1304, Accuracy: 95.79%\n"
          ]
        },
        {
          "name": "stderr",
          "output_type": "stream",
          "text": [
            "Epoch 17: 100%|████████████████████████████████████████| 782/782 [00:09<00:00, 85.68batch/s]\n"
          ]
        },
        {
          "name": "stdout",
          "output_type": "stream",
          "text": [
            "Epoch 17/17, Loss: 0.0408, Accuracy: 99.16%\n",
            "Finished Training\n",
            "Accuracy on the test set: 77.77%\n"
          ]
        },
        {
          "data": {
            "image/png": "[encoded data removed]",
            "text/plain": [
              "<Figure size 1200x400 with 1 Axes>"
            ]
          },
          "metadata": {},
          "output_type": "display_data"
        }
      ],
      "source": [
        "# Define our custom ResNet18 model\n",
        "\n",
        "class ResNet18(nn.Module):\n",
        "    def __init__(self, num_classes=10):\n",
        "        super(ResNet18, self).__init__()\n",
        "        self.resnet18 = models.resnet18(pretrained=True)\n",
        "        num_ftrs = self.resnet18.fc.in_features\n",
        "        self.resnet18.fc = nn.Sequential(\n",
        "            nn.Linear(num_ftrs, 256),\n",
        "            nn.ReLU(),\n",
        "            nn.BatchNorm1d(256),\n",
        "            nn.Linear(256, num_classes)\n",
        "        )\n",
        "\n",
        "    def forward(self, x):\n",
        "        return self.resnet18(x)\n",
        "\n",
        "model_resnet18 = ResNet18()\n",
        "model_resnet18 = model_resnet18.to(set_gpu)\n",
        "\n",
        "# Training and and evaluating the ResNet model\n",
        "accuracy_list_resnet = model_training(model_resnet18, loader_train_data, count_epochs)\n",
        "\n",
        "# Storing accuracy for ModifiedResNet18\n",
        "model_name = 'ModifiedResNet18'\n",
        "accuracy = model_evalutaion(model_resnet18, loader_test_data)  # Assuming evaluate_model returns accuracy\n",
        "model_accuracies[model_name] = accuracy\n",
        "model_resnet18=model_resnet18.cpu()\n",
        "# Creating plots for accuracy and  for our resnet 18 model\n",
        "plt.figure(figsize=(12, 4))\n",
        "\n",
        "# Plot the accuracy\n",
        "plt.subplot(1, 2, 2)\n",
        "plt.plot(range(1, count_epochs + 1), accuracy_list_resnet, label='Accuracy', color='green')\n",
        "plt.xlabel('Epoch')\n",
        "plt.ylabel('Accuracy')\n",
        "plt.ylim(0, 100)\n",
        "plt.legend()\n",
        "plt.tight_layout()\n",
        "plt.show()"
      ]
    },
    {
      "cell_type": "markdown",
      "metadata": {
        "id": "2gMyOefo28Mp"
      },
      "source": [
        "## ResNet50\n"
      ]
    },
    {
      "cell_type": "code",
      "execution_count": 16,
      "metadata": {
        "id": "XzvK9fRI28Mq"
      },
      "outputs": [
        {
          "name": "stderr",
          "output_type": "stream",
          "text": [
            "/home/kyrotron/miniconda3/envs/ptrch/lib/python3.9/site-packages/torchvision/models/_utils.py:223: UserWarning: Arguments other than a weight enum or `None` for 'weights' are deprecated since 0.13 and may be removed in the future. The current behavior is equivalent to passing `weights=ResNet50_Weights.IMAGENET1K_V1`. You can also use `weights=ResNet50_Weights.DEFAULT` to get the most up-to-date weights.\n",
            "  warnings.warn(msg)\n",
            "Epoch 1: 100%|████████████████████████████████████████| 782/782 [00:26<00:00, 29.32batch/s]\n"
          ]
        },
        {
          "name": "stdout",
          "output_type": "stream",
          "text": [
            "Epoch 1/17, Loss: 1.1515, Accuracy: 60.53%\n"
          ]
        },
        {
          "name": "stderr",
          "output_type": "stream",
          "text": [
            "Epoch 2: 100%|████████████████████████████████████████| 782/782 [00:25<00:00, 30.13batch/s]\n"
          ]
        },
        {
          "name": "stdout",
          "output_type": "stream",
          "text": [
            "Epoch 2/17, Loss: 0.8668, Accuracy: 70.97%\n"
          ]
        },
        {
          "name": "stderr",
          "output_type": "stream",
          "text": [
            "Epoch 3: 100%|████████████████████████████████████████| 782/782 [00:25<00:00, 30.35batch/s]\n"
          ]
        },
        {
          "name": "stdout",
          "output_type": "stream",
          "text": [
            "Epoch 3/17, Loss: 0.7790, Accuracy: 74.15%\n"
          ]
        },
        {
          "name": "stderr",
          "output_type": "stream",
          "text": [
            "Epoch 4: 100%|████████████████████████████████████████| 782/782 [00:26<00:00, 29.57batch/s]\n"
          ]
        },
        {
          "name": "stdout",
          "output_type": "stream",
          "text": [
            "Epoch 4/17, Loss: 0.7150, Accuracy: 76.40%\n"
          ]
        },
        {
          "name": "stderr",
          "output_type": "stream",
          "text": [
            "Epoch 5: 100%|████████████████████████████████████████| 782/782 [00:26<00:00, 29.92batch/s]\n"
          ]
        },
        {
          "name": "stdout",
          "output_type": "stream",
          "text": [
            "Epoch 5/17, Loss: 0.6596, Accuracy: 78.18%\n"
          ]
        },
        {
          "name": "stderr",
          "output_type": "stream",
          "text": [
            "Epoch 6: 100%|████████████████████████████████████████| 782/782 [00:26<00:00, 29.54batch/s]\n"
          ]
        },
        {
          "name": "stdout",
          "output_type": "stream",
          "text": [
            "Epoch 6/17, Loss: 0.6020, Accuracy: 80.05%\n"
          ]
        },
        {
          "name": "stderr",
          "output_type": "stream",
          "text": [
            "Epoch 7: 100%|████████████████████████████████████████| 782/782 [00:26<00:00, 29.71batch/s]\n"
          ]
        },
        {
          "name": "stdout",
          "output_type": "stream",
          "text": [
            "Epoch 7/17, Loss: 0.5572, Accuracy: 81.42%\n"
          ]
        },
        {
          "name": "stderr",
          "output_type": "stream",
          "text": [
            "Epoch 8: 100%|████████████████████████████████████████| 782/782 [00:25<00:00, 30.49batch/s]\n"
          ]
        },
        {
          "name": "stdout",
          "output_type": "stream",
          "text": [
            "Epoch 8/17, Loss: 0.5081, Accuracy: 83.00%\n"
          ]
        },
        {
          "name": "stderr",
          "output_type": "stream",
          "text": [
            "Epoch 9: 100%|████████████████████████████████████████| 782/782 [00:26<00:00, 29.87batch/s]\n"
          ]
        },
        {
          "name": "stdout",
          "output_type": "stream",
          "text": [
            "Epoch 9/17, Loss: 0.4755, Accuracy: 84.14%\n"
          ]
        },
        {
          "name": "stderr",
          "output_type": "stream",
          "text": [
            "Epoch 10: 100%|████████████████████████████████████████| 782/782 [00:26<00:00, 29.89batch/s]\n"
          ]
        },
        {
          "name": "stdout",
          "output_type": "stream",
          "text": [
            "Epoch 10/17, Loss: 0.4413, Accuracy: 85.17%\n"
          ]
        },
        {
          "name": "stderr",
          "output_type": "stream",
          "text": [
            "Epoch 11: 100%|████████████████████████████████████████| 782/782 [00:26<00:00, 29.65batch/s]\n"
          ]
        },
        {
          "name": "stdout",
          "output_type": "stream",
          "text": [
            "Epoch 11/17, Loss: 0.4071, Accuracy: 86.12%\n"
          ]
        },
        {
          "name": "stderr",
          "output_type": "stream",
          "text": [
            "Epoch 12: 100%|████████████████████████████████████████| 782/782 [00:26<00:00, 29.84batch/s]\n"
          ]
        },
        {
          "name": "stdout",
          "output_type": "stream",
          "text": [
            "Epoch 12/17, Loss: 0.3929, Accuracy: 86.65%\n"
          ]
        },
        {
          "name": "stderr",
          "output_type": "stream",
          "text": [
            "Epoch 13: 100%|████████████████████████████████████████| 782/782 [00:26<00:00, 29.46batch/s]\n"
          ]
        },
        {
          "name": "stdout",
          "output_type": "stream",
          "text": [
            "Epoch 13/17, Loss: 0.3667, Accuracy: 87.65%\n"
          ]
        },
        {
          "name": "stderr",
          "output_type": "stream",
          "text": [
            "Epoch 14: 100%|████████████████████████████████████████| 782/782 [00:26<00:00, 29.64batch/s]\n"
          ]
        },
        {
          "name": "stdout",
          "output_type": "stream",
          "text": [
            "Epoch 14/17, Loss: 0.3511, Accuracy: 87.97%\n"
          ]
        },
        {
          "name": "stderr",
          "output_type": "stream",
          "text": [
            "Epoch 15: 100%|████████████████████████████████████████| 782/782 [00:26<00:00, 29.59batch/s]\n"
          ]
        },
        {
          "name": "stdout",
          "output_type": "stream",
          "text": [
            "Epoch 15/17, Loss: 0.3360, Accuracy: 88.63%\n"
          ]
        },
        {
          "name": "stderr",
          "output_type": "stream",
          "text": [
            "Epoch 16: 100%|████████████████████████████████████████| 782/782 [00:25<00:00, 30.18batch/s]\n"
          ]
        },
        {
          "name": "stdout",
          "output_type": "stream",
          "text": [
            "Epoch 16/17, Loss: 0.1983, Accuracy: 93.47%\n"
          ]
        },
        {
          "name": "stderr",
          "output_type": "stream",
          "text": [
            "Epoch 17: 100%|████████████████████████████████████████| 782/782 [00:25<00:00, 30.91batch/s]\n"
          ]
        },
        {
          "name": "stdout",
          "output_type": "stream",
          "text": [
            "Epoch 17/17, Loss: 0.0915, Accuracy: 97.56%\n",
            "Finished Training\n",
            "Accuracy on the test set: 81.87%\n"
          ]
        },
        {
          "data": {
            "image/png": "[encoded data removed]",
            "text/plain": [
              "<Figure size 1200x400 with 1 Axes>"
            ]
          },
          "metadata": {},
          "output_type": "display_data"
        }
      ],
      "source": [
        "# Defining our custom model for ResNet50.\n",
        "\n",
        "class ResNet50(nn.Module):\n",
        "    def __init__(self, num_classes=10):\n",
        "        super(ResNet50, self).__init__()\n",
        "        self.resnet50 = models.resnet50(pretrained=True)\n",
        "        num_ftrs = self.resnet50.fc.in_features\n",
        "        self.resnet50.fc = nn.Sequential(\n",
        "            nn.Linear(num_ftrs, 256),\n",
        "            nn.ReLU(),\n",
        "            nn.BatchNorm1d(256),\n",
        "            nn.Linear(256, num_classes)\n",
        "        )\n",
        "\n",
        "    def forward(self, x):\n",
        "        return self.resnet50(x)\n",
        "\n",
        "resnet50mod = ResNet50()\n",
        "\n",
        "# Moving model to GPU\n",
        "resnet50mod = resnet50mod.to(set_gpu)\n",
        "\n",
        "# Training the model\n",
        "accuracy_list_resnet50 = model_training(resnet50mod, loader_train_data, count_epochs)\n",
        "\n",
        "# Evaluating and storing accuracy for ModifiedResNet50\n",
        "model_name = 'ModifiedResNet50'\n",
        "accuracy = model_evalutaion(resnet50mod, loader_test_data)  # Assuming evaluate_model returns accuracy\n",
        "model_accuracies[model_name] = accuracy\n",
        "resnet50mod=resnet50mod.cpu()\n",
        "# Create plots for accuracy and loss\n",
        "plt.figure(figsize=(12, 4))\n",
        "\n",
        "# Plot the accuracy\n",
        "plt.subplot(1, 2, 2)\n",
        "plt.plot(range(1, count_epochs + 1), accuracy_list_resnet50, label='Accuracy', color='green')\n",
        "plt.xlabel('Epoch')\n",
        "plt.ylabel('Accuracy')\n",
        "plt.ylim(0, 100)\n",
        "plt.legend()\n",
        "plt.tight_layout()\n",
        "plt.show()"
      ]
    },
    {
      "cell_type": "markdown",
      "metadata": {},
      "source": [
        "# Part 3"
      ]
    },
    {
      "cell_type": "markdown",
      "metadata": {},
      "source": [
        "## Comparison"
      ]
    },
    {
      "cell_type": "code",
      "execution_count": 17,
      "metadata": {
        "id": "23rJpEwa28Mq"
      },
      "outputs": [
        {
          "name": "stdout",
          "output_type": "stream",
          "text": [
            "CNN Accuracy: 73.55%\n",
            "ModifiedLeNet Accuracy: 70.94%\n",
            "ModifiedEfficientNet Accuracy: 71.55%\n",
            "ModifiedResNet18 Accuracy: 77.77%\n",
            "ModifiedResNet50 Accuracy: 81.87%\n"
          ]
        },
        {
          "data": {
            "image/png": "[encoded data removed]",
            "text/plain": [
              "<Figure size 1000x600 with 1 Axes>"
            ]
          },
          "metadata": {},
          "output_type": "display_data"
        }
      ],
      "source": [
        "# Print the model accuracies\n",
        "for model_CNN, accuracy in model_accuracies.items():\n",
        "    print(f\"{model_CNN} Accuracy: {accuracy:.2f}%\")\n",
        "\n",
        "# Creating a histogram of model accuracies\n",
        "import matplotlib.pyplot as plt\n",
        "\n",
        "plt.figure(figsize=(10, 6))\n",
        "plt.bar(model_accuracies.keys(), model_accuracies.values())\n",
        "plt.xlabel('Model')\n",
        "plt.ylabel('Accuracy')\n",
        "plt.title('Model Accuracies on CIFAR-10')\n",
        "plt.show()"
      ]
    },
    {
      "cell_type": "code",
      "execution_count": null,
      "metadata": {},
      "outputs": [],
      "source": []
    }
  ],
  "metadata": {
    "colab": {
      "provenance": []
    },
    "kernelspec": {
      "display_name": "Python 3",
      "language": "python",
      "name": "python3"
    },
    "language_info": {
      "codemirror_mode": {
        "name": "ipython",
        "version": 3
      },
      "file_extension": ".py",
      "mimetype": "text/x-python",
      "name": "python",
      "nbconvert_exporter": "python",
      "pygments_lexer": "ipython3",
      "version": "3.9.18"
    }
  },
  "nbformat": 4,
  "nbformat_minor": 0
}
